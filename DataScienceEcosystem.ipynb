{
 "cells": [
  {
   "cell_type": "markdown",
   "id": "999d1252-59ab-4231-9084-282973cdb643",
   "metadata": {},
   "source": [
    "# Data Science Tools and Ecosystem"
   ]
  },
  {
   "cell_type": "markdown",
   "id": "debed3bc-7112-4d31-8531-1fdfc27a6937",
   "metadata": {},
   "source": [
    "In this notebook, Data Science Tools and Ecosystem are summarized."
   ]
  },
  {
   "cell_type": "markdown",
   "id": "5fe0fe14-2f1b-4f1a-b6b2-2488bd77c06d",
   "metadata": {},
   "source": [
    "Some of the popular languages that Data Scientists use are:\n",
    "<br>\n",
    "1.Python\n",
    "<br>\n",
    "2.R\n",
    "<br>\n",
    "3.SQL\n",
    "<br>\n",
    "4.Scala"
   ]
  },
  {
   "cell_type": "markdown",
   "id": "466885f4-9d20-4882-9558-cdb82496fc06",
   "metadata": {},
   "source": [
    "Some of the commonly used libraries used by Data Scientists include:\n",
    "<br>\n",
    "1.NumPy\n",
    "<br>\n",
    "2.Pandas\n",
    "<br>\n",
    "3.Matplotlib\n",
    "<br>\n",
    "4.Keras"
   ]
  },
  {
   "cell_type": "markdown",
   "id": "9760de36-a9f5-4e54-836e-598d77f42eda",
   "metadata": {},
   "source": [
    "|Data Science Tools|\n",
    "|---|\n",
    "|Apache Spark|\n",
    "|KNIME|\n",
    "|MATLAB|"
   ]
  },
  {
   "cell_type": "markdown",
   "id": "192a033b-2ccb-44ea-9f06-9f8b14b3b5aa",
   "metadata": {},
   "source": [
    "### Below are a few examples of evaluating arithmetic expressions in Python"
   ]
  },
  {
   "cell_type": "code",
   "execution_count": 22,
   "id": "4c308f41-2ae8-4b49-a1a8-ab6b05042fd0",
   "metadata": {},
   "outputs": [
    {
     "data": {
      "text/plain": [
       "17"
      ]
     },
     "execution_count": 22,
     "metadata": {},
     "output_type": "execute_result"
    }
   ],
   "source": [
    "#This a simple arithmetic expression to mutiply then add integers\n",
    "(3*4)+5"
   ]
  },
  {
   "cell_type": "code",
   "execution_count": 24,
   "id": "0763e439-56a7-4b0b-b1be-3ee6bdefa036",
   "metadata": {},
   "outputs": [
    {
     "data": {
      "text/plain": [
       "3.3333333333333335"
      ]
     },
     "execution_count": 24,
     "metadata": {},
     "output_type": "execute_result"
    }
   ],
   "source": [
    "#This will convert 200 minutes to hours by diving by 60\n",
    "200/60"
   ]
  },
  {
   "cell_type": "markdown",
   "id": "b9b3c695-1cce-461c-a819-150c9770ccb7",
   "metadata": {},
   "source": [
    "**Objectives:**\n",
    "<br>\n",
    "* List popular languages for Data Science.\n",
    "<br>\n",
    "* List commonly used libraries used by Data Scientists\n",
    "<br>\n",
    "* List common tool that Data Scientists use"
   ]
  },
  {
   "cell_type": "markdown",
   "id": "7e3d49f2-cf46-4a59-88d6-2fdc8d725617",
   "metadata": {},
   "source": [
    "## Author\n",
    "<br>\n",
    "Amrendra Kumar Singh"
   ]
  }
 ],
 "metadata": {
  "kernelspec": {
   "display_name": "anaconda-panel-2023.05-py310",
   "language": "python",
   "name": "conda-env-anaconda-panel-2023.05-py310-py"
  },
  "language_info": {
   "codemirror_mode": {
    "name": "ipython",
    "version": 3
   },
   "file_extension": ".py",
   "mimetype": "text/x-python",
   "name": "python",
   "nbconvert_exporter": "python",
   "pygments_lexer": "ipython3",
   "version": "3.11.5"
  }
 },
 "nbformat": 4,
 "nbformat_minor": 5
}
